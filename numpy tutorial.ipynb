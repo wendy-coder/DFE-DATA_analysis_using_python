{
 "cells": [
  {
   "cell_type": "markdown",
   "id": "52fac18b-33b4-409d-9698-f441c793f113",
   "metadata": {},
   "source": [
    "https://numpy.org/doc/stable/user/quickstart.html"
   ]
  },
  {
   "cell_type": "markdown",
   "id": "047878ae-cd87-484b-a97e-24172cfdc0d1",
   "metadata": {},
   "source": [
    "####Basic numpy "
   ]
  },
  {
   "cell_type": "code",
   "execution_count": null,
   "id": "bcb46fbc-41c5-4c44-927c-4a8a3f97f818",
   "metadata": {},
   "outputs": [],
   "source": [
    "####Numpy basic \n",
    "import numpy as np\n",
    ">>> a = np.arange(15).reshape(3, 5)\n",
    "\n",
    ">>> a.shape\n",
    "\n",
    ">>> a.ndim\n",
    "\n",
    ">>> a.dtype.name\n",
    ">>> a.itemsize\n",
    "\n",
    ">>> a.size\n",
    "\n",
    ">>> type(a)\n",
    "<class 'numpy.ndarray'>\n",
    ">>> b = np.array([6, 7, 8])\n",
    ">>> b\n",
    "\n",
    ">>> type(b)\n",
    "<class 'numpy.ndarray'>"
   ]
  },
  {
   "cell_type": "code",
   "execution_count": null,
   "id": "ee18bd54-d751-46a3-9e2d-0c28eb0785bb",
   "metadata": {},
   "outputs": [],
   "source": [
    "###Numpy Arrey creation\n",
    "import numpy as np\n",
    ">>> a = np.array([2, 3, 4])\n",
    ">>> a\n",
    "\n",
    ">>> a.dtype\n",
    "\n",
    ">>> b = np.array([1.2, 3.5, 5.1])\n",
    ">>> b.dtype\n",
    "\n"
   ]
  },
  {
   "cell_type": "code",
   "execution_count": null,
   "id": "9be471e0-3818-482b-a934-b36c02215784",
   "metadata": {},
   "outputs": [],
   "source": [
    "a = np.array(1, 2, 3, 4)    # WRONG\n",
    "Traceback (most recent call last):\n",
    "  ...\n",
    "TypeError: array() takes from 1 to 2 positional arguments but 4 were given\n",
    ">>> a = np.array([1, 2, 3, 4])  # RIGHT"
   ]
  },
  {
   "cell_type": "code",
   "execution_count": null,
   "id": "372696b7-e3e3-4b7f-a8bb-e20c82a882fa",
   "metadata": {},
   "outputs": [],
   "source": [
    "b = np.array([(1.5, 2, 3), (4, 5, 6)])\n",
    ">>> b\n"
   ]
  },
  {
   "cell_type": "code",
   "execution_count": null,
   "id": "9eabd23c-41a3-4f64-9847-e28a8238e0e8",
   "metadata": {},
   "outputs": [],
   "source": [
    "c = np.array([[1, 2], [3, 4]], dtype=complex) \n",
    "#complex is when you have number and letters\n",
    ">>> c\n"
   ]
  },
  {
   "cell_type": "code",
   "execution_count": null,
   "id": "f0d0bc4b-d7bc-41ce-82e0-0d89a5b9b743",
   "metadata": {},
   "outputs": [],
   "source": [
    ">>> np.zeros((3, 4))\n",
    ">>> np.ones((2, 3, 4), dtype=np.int16)\n",
    ">>> np.empty((2, 3)) "
   ]
  },
  {
   "cell_type": "code",
   "execution_count": null,
   "id": "25a2101f-e229-4a76-8e80-397788183692",
   "metadata": {},
   "outputs": [],
   "source": [
    ">>>np.arange(10, 30, 5)\n",
    "\n",
    ">>> np.arange(0, 2, 0.3)  # it accepts float arguments\n"
   ]
  },
  {
   "cell_type": "code",
   "execution_count": null,
   "id": "11c7385f-c9bb-4407-90c6-4556f1e1710e",
   "metadata": {},
   "outputs": [],
   "source": [
    "from numpy import pi\n",
    ">>> np.linspace(0, 2, 9)                   # 9 numbers from 0 to 2\n",
    ">>> x = np.linspace(0, 2 * pi, 100)        # useful to evaluate function at lots of points\n",
    ">>> f = np.sin(x)"
   ]
  },
  {
   "cell_type": "markdown",
   "id": "892a7b52-794d-49ba-b447-7c6ef371271d",
   "metadata": {},
   "source": [
    "####Printing Arrays"
   ]
  },
  {
   "cell_type": "code",
   "execution_count": 2,
   "id": "416a263e-5f3c-4c3b-b3d3-d55e97da9f84",
   "metadata": {},
   "outputs": [
    {
     "ename": "SyntaxError",
     "evalue": "invalid syntax (256028609.py, line 1)",
     "output_type": "error",
     "traceback": [
      "\u001b[0;36m  Input \u001b[0;32mIn [2]\u001b[0;36m\u001b[0m\n\u001b[0;31m    >>>a = np.arange(6) # 1d array\u001b[0m\n\u001b[0m    ^\u001b[0m\n\u001b[0;31mSyntaxError\u001b[0m\u001b[0;31m:\u001b[0m invalid syntax\n"
     ]
    }
   ],
   "source": [
    ">>>a = np.arange(6) # 1d array\n",
    ">>> print(a)\n",
    "\n",
    ">>> b = np.arange(12).reshape(4, 3) # 2d array\n",
    ">>> print(b)\n",
    "\n",
    ">>> c = np.arange(24).reshape(2, 3, 4)  #3d array\n",
    ">>> print(c)\n"
   ]
  },
  {
   "cell_type": "code",
   "execution_count": null,
   "id": "ba05bf1e-da7a-4a0b-bee1-6503e6710d7e",
   "metadata": {},
   "outputs": [],
   "source": [
    ">>>print(np.arange(10000))\n",
    "\n",
    ">>> print(np.arange(10000).reshape(100, 100))\n"
   ]
  },
  {
   "cell_type": "code",
   "execution_count": null,
   "id": "15fb2166-2b46-427d-b023-8d70c224725f",
   "metadata": {},
   "outputs": [],
   "source": [
    "np.set_printoptions(threshold=sys.maxsize)  # sys module should be imported"
   ]
  },
  {
   "cell_type": "code",
   "execution_count": null,
   "id": "edc78efe-fdae-45c1-bd0a-a57359cc2038",
   "metadata": {},
   "outputs": [],
   "source": [
    "###Basic Operations"
   ]
  },
  {
   "cell_type": "code",
   "execution_count": null,
   "id": "98d65cc1-eb82-4fd0-83ed-5f5a028f7c92",
   "metadata": {},
   "outputs": [],
   "source": [
    "a = np.array([20, 30, 40, 50])\n",
    ">>> b = np.arange(4)\n",
    ">>> b\n",
    "\n",
    ">>> c = a - b\n",
    ">>> c\n",
    "\n",
    ">>> b**2\n",
    "\n",
    ">>> 10 * np.sin(a)\n",
    "\n",
    ">>> a < 35\n"
   ]
  },
  {
   "cell_type": "code",
   "execution_count": null,
   "id": "8e2afb9f-40cc-489e-88a2-cf884285231e",
   "metadata": {},
   "outputs": [],
   "source": [
    "A = np.array([[1, 1],\n",
    "\n",
    ">>> B = np.array([[2, 0],\n",
    "\n",
    ">>> A * B     # elementwise product\n",
    "\n",
    ">>> A @ B     # matrix product\n",
    "\n",
    ">>> A.dot(B)  # another matrix product\n"
   ]
  },
  {
   "cell_type": "code",
   "execution_count": null,
   "id": "0e5b2abe-2635-470c-a86f-1cdc4d7d2bea",
   "metadata": {},
   "outputs": [],
   "source": [
    ">>> rg = np.random.default_rng(1)  # create instance of default random number generator\n",
    ">>> a = np.ones((2, 3), dtype=int)\n",
    ">>> b = rg.random((2, 3))\n",
    ">>> a *= 3\n",
    ">>> a\n",
    "\n",
    ">>> b += a\n",
    ">>> b\n",
    ">>> a += b  # b is not automatically converted to integer type\n",
    "Traceback (most recent call last):\n",
    "    ...\n",
    "numpy.core._exceptions._UFuncOutputCastingError: Cannot cast ufunc 'add' output from dtype('float64') to dtype('int64') with casting rule 'same_kind'"
   ]
  },
  {
   "cell_type": "code",
   "execution_count": null,
   "id": "fe311242-c4b9-4591-907a-88e3bf9ff78c",
   "metadata": {},
   "outputs": [],
   "source": [
    ">>>a = np.ones(3, dtype=np.int32)\n",
    ">>> b = np.linspace(0, pi, 3)\n",
    ">>> b.dtype.name\n",
    "\n",
    ">>> c = a + b\n",
    ">>> c\n",
    "\n",
    ">>> c.dtype.name\n",
    "\n",
    ">>> d = np.exp(c * 1j)\n",
    ">>> d\n",
    "\n",
    ">>> d.dtype.name"
   ]
  },
  {
   "cell_type": "code",
   "execution_count": null,
   "id": "084a9402-e0f6-4d96-8fba-0fd733209fcd",
   "metadata": {},
   "outputs": [],
   "source": [
    "a = rg.random((2, 3))\n",
    ">>> a\n",
    "\n",
    ">>> a.sum()\n",
    "\n",
    ">>> a.min()\n",
    "\n",
    ">>> a.max()\n"
   ]
  },
  {
   "cell_type": "code",
   "execution_count": null,
   "id": "a4eb9019-4fa8-413d-81e6-cbf3105476ce",
   "metadata": {},
   "outputs": [],
   "source": [
    "b = np.arange(12).reshape(3, 4)\n",
    ">>> b\n",
    "\n",
    ">>>\n",
    ">>> b.sum(axis=0)     # sum of each column\n",
    "\n",
    ">>>\n",
    ">>> b.min(axis=1)     # min of each row\n",
    ">>>\n",
    ">>> b.cumsum(axis=1)  # cumulative sum along each row\n"
   ]
  },
  {
   "cell_type": "code",
   "execution_count": null,
   "id": "a840884d-942a-48b0-b56e-c75016be0cdc",
   "metadata": {},
   "outputs": [],
   "source": [
    "a = np.arange(10)**3\n",
    ">>> a\n",
    ">>> a[2]\n",
    "\n",
    ">>> a[2:5]\n",
    ">>> # equivalent to a[0:6:2] = 1000;\n",
    ">>> # from start to position 6, exclusive, set every 2nd element to 1000\n",
    ">>> a[:6:2] = 1000\n",
    ">>> a\n",
    ">>> a[::-1]  # reversed a\n",
    ">>> for i in a:\n",
    "...     print(i**(1 / 3.))\n",
    "..."
   ]
  },
  {
   "cell_type": "code",
   "execution_count": null,
   "id": "4730e3bc-1bf0-4520-a4ac-51e5e8379a91",
   "metadata": {},
   "outputs": [],
   "source": [
    "a = np.arange(10)**3\n",
    ">>> a\n",
    ">>> a[2]\n",
    "\n",
    ">>> a[2:5]\n",
    ">>> # equivalent to a[0:6:2] = 1000;\n",
    ">>> # from start to position 6, exclusive, set every 2nd element to 1000\n",
    ">>> a[:6:2] = 1000\n",
    ">>> a\n",
    ">>> a[::-1]  # reversed a\n",
    ">>> for i in a:\n",
    "...     print(i**(1 / 3.))\n",
    "...\n",
    "\n",
    "Multidimensional arrays can have one index per axis. These indices are given in a tuple separated by commas:\n",
    "\n",
    ">>> def f(x, y):\n",
    "...     return 10 * x + y\n",
    "...\n",
    ">>> b = np.fromfunction(f, (5, 4), dtype=int)\n",
    ">>> b\n",
    ">>> b[2, 3]\n",
    ">>> b[0:5, 1]  # each row in the second column of b\n",
    ">>> b[:, 1]    # equivalent to the previous example\n",
    ">>> b[1:3, :]  # each column in the second and third row of b\n"
   ]
  },
  {
   "cell_type": "code",
   "execution_count": null,
   "id": "d59dc92e-f600-4cb9-bd94-7647391b9ecb",
   "metadata": {},
   "outputs": [],
   "source": [
    "b[-1]   # the last row. Equivalent to b[-1, :]\n",
    "array([40, 41, 42, 43])"
   ]
  },
  {
   "cell_type": "code",
   "execution_count": null,
   "id": "538e79ea-a04d-4576-9b80-1fec9f1074ad",
   "metadata": {},
   "outputs": [],
   "source": [
    "c = np.array([[[  0,  1,  2],  # a 3D array (two stacked 2D arrays)\n",
    "\n",
    ">>> c.shape\n",
    ">>> c[1, ...]  # same as c[1, :, :] or c[1]\n",
    "\n",
    ">>> c[..., 2]  # same as c[:, :, 2]\n"
   ]
  },
  {
   "cell_type": "code",
   "execution_count": null,
   "id": "a8bee5bb-1a1b-4c65-9087-c4531e951998",
   "metadata": {},
   "outputs": [],
   "source": [
    "for row in b:\n",
    "...     print(row)\n",
    "...\n",
    "[0 1 2 3]\n",
    "[10 11 12 13]\n",
    "[20 21 22 23]\n",
    "[30 31 32 33]\n",
    "[40 41 42 43]"
   ]
  },
  {
   "cell_type": "code",
   "execution_count": null,
   "id": "808e30ee-fbc7-4f03-98c4-c1428afefaa1",
   "metadata": {},
   "outputs": [],
   "source": [
    "for element in b.flat:\n",
    "...     print(element)\n",
    "...\n",
    "0"
   ]
  },
  {
   "cell_type": "markdown",
   "id": "098ec82b-753a-45ad-8155-49baeb80a331",
   "metadata": {},
   "source": [
    "Shape Manipulation"
   ]
  },
  {
   "cell_type": "code",
   "execution_count": null,
   "id": "6305841c-47e4-4b3d-a793-b1252550c909",
   "metadata": {},
   "outputs": [],
   "source": []
  }
 ],
 "metadata": {
  "kernelspec": {
   "display_name": "Python 3 (ipykernel)",
   "language": "python",
   "name": "python3"
  },
  "language_info": {
   "codemirror_mode": {
    "name": "ipython",
    "version": 3
   },
   "file_extension": ".py",
   "mimetype": "text/x-python",
   "name": "python",
   "nbconvert_exporter": "python",
   "pygments_lexer": "ipython3",
   "version": "3.10.6"
  }
 },
 "nbformat": 4,
 "nbformat_minor": 5
}
