{
 "cells": [
  {
   "cell_type": "code",
   "execution_count": 4,
   "id": "76ced1b0-f623-456c-8929-506a8dff421d",
   "metadata": {},
   "outputs": [
    {
     "name": "stdout",
     "output_type": "stream",
     "text": [
      "Hello world\n"
     ]
    }
   ],
   "source": [
    "print(\"Hello world\")"
   ]
  },
  {
   "cell_type": "code",
   "execution_count": 22,
   "id": "f0811b5d-7b25-4995-8713-4cbe4fc56c8e",
   "metadata": {},
   "outputs": [
    {
     "name": "stdout",
     "output_type": "stream",
     "text": [
      "4.444444444444445\n"
     ]
    }
   ],
   "source": [
    "x = 5\n",
    "y = 9\n",
    "z = 2\n",
    "rest = x*z/z-x**2/(x*y)\n",
    "print(rest)"
   ]
  },
  {
   "cell_type": "code",
   "execution_count": 11,
   "id": "57ba1dcf-3034-4884-8065-0e2014940345",
   "metadata": {},
   "outputs": [
    {
     "name": "stdin",
     "output_type": "stream",
     "text": [
      "Enter your name - Rachida\n",
      "Where are you from? -  burkina faso \n"
     ]
    },
    {
     "name": "stdout",
     "output_type": "stream",
     "text": [
      "Rachida is from burkina faso \n"
     ]
    }
   ],
   "source": [
    "a = input(\"Enter your name -\" )\n",
    "b = input(\"Where are you from? - \")\n",
    "print(a, \"is from\", b)"
   ]
  },
  {
   "cell_type": "code",
   "execution_count": null,
   "id": "d71ad321-e612-4c65-aa2e-7a3f256aa6ed",
   "metadata": {},
   "outputs": [],
   "source": [
    "#Variables \n",
    "print(x)\n"
   ]
  },
  {
   "cell_type": "code",
   "execution_count": null,
   "id": "b120dc40-193d-4bb6-abfd-e4dd91d9e1bb",
   "metadata": {},
   "outputs": [],
   "source": [
    "x = 8\n",
    "print(x)"
   ]
  },
  {
   "cell_type": "code",
   "execution_count": 14,
   "id": "eacd9d49-9db6-4e20-a2aa-43396e5cb46a",
   "metadata": {},
   "outputs": [
    {
     "name": "stdout",
     "output_type": "stream",
     "text": [
      "<class 'float'>\n"
     ]
    }
   ],
   "source": [
    "#float is decimal number \n",
    "#eg:\n",
    "x= 2.5 \n",
    "print (type(x))"
   ]
  },
  {
   "cell_type": "code",
   "execution_count": 16,
   "id": "dff774fb-3dab-48f1-9a2b-79eb1131e83e",
   "metadata": {},
   "outputs": [
    {
     "name": "stdout",
     "output_type": "stream",
     "text": [
      "b1\n"
     ]
    }
   ],
   "source": [
    "#Boolean, \n",
    "b1 = True \n",
    "b2 = False\n",
    "print(\"b1\")"
   ]
  },
  {
   "cell_type": "code",
   "execution_count": 18,
   "id": "817d35a3-6389-463c-a888-8dc13aa37377",
   "metadata": {},
   "outputs": [
    {
     "data": {
      "text/plain": [
       "(5+8j)"
      ]
     },
     "execution_count": 18,
     "metadata": {},
     "output_type": "execute_result"
    }
   ],
   "source": [
    "cl = 5+8j\n",
    "cl"
   ]
  },
  {
   "cell_type": "code",
   "execution_count": 24,
   "id": "9e8df933-0e3a-4527-9579-c1f0de876b79",
   "metadata": {},
   "outputs": [
    {
     "data": {
      "text/plain": [
       "complex"
      ]
     },
     "execution_count": 24,
     "metadata": {},
     "output_type": "execute_result"
    }
   ],
   "source": [
    "type(cl)"
   ]
  },
  {
   "cell_type": "code",
   "execution_count": 51,
   "id": "4f6f3672-1317-4dde-8d1f-100158e3e0b0",
   "metadata": {},
   "outputs": [
    {
     "name": "stdout",
     "output_type": "stream",
     "text": [
      "<class 'list'>\n",
      "4\n",
      "['anne', 'daniel', 'babita']\n"
     ]
    },
    {
     "data": {
      "text/plain": [
       "['anne', 'harsh', 'nazma', 'omar']"
      ]
     },
     "execution_count": 51,
     "metadata": {},
     "output_type": "execute_result"
    }
   ],
   "source": [
    "#data structures : list, tuples, set, dictionary \n",
    "# square bracket is the symbol for list \n",
    "l1 = [\"harsh\", \"anne\", \"daniel\", 'babita']\n",
    "print(type(l1))\n",
    "print(len(l1))\n",
    "l1[3]\n",
    "l1[-1]\n",
    "print(l1[1:4])\n",
    "l1.index('babita')\n",
    "l1[2] = \"nazma\"\n",
    "#l1.index(anne)\n",
    "l1.append(\"omar\")\n",
    "l1\n",
    "del l1[3]\n",
    "l1.sort()\n",
    "l1\n",
    "\n"
   ]
  },
  {
   "cell_type": "code",
   "execution_count": 55,
   "id": "e9db3c69-6fb8-4f3e-b242-65a4d67a36fc",
   "metadata": {},
   "outputs": [
    {
     "ename": "TypeError",
     "evalue": "'<' not supported between instances of 'int' and 'str'",
     "output_type": "error",
     "traceback": [
      "\u001b[0;31m---------------------------------------------------------------------------\u001b[0m",
      "\u001b[0;31mTypeError\u001b[0m                                 Traceback (most recent call last)",
      "Input \u001b[0;32mIn [55]\u001b[0m, in \u001b[0;36m<cell line: 2>\u001b[0;34m()\u001b[0m\n\u001b[1;32m      1\u001b[0m l2 \u001b[38;5;241m=\u001b[39m [\u001b[38;5;124m'\u001b[39m\u001b[38;5;124mharsh\u001b[39m\u001b[38;5;124m'\u001b[39m, \u001b[38;5;241m3\u001b[39m,\u001b[38;5;241m4\u001b[39m,\u001b[38;5;124m'\u001b[39m\u001b[38;5;124mmate\u001b[39m\u001b[38;5;124m'\u001b[39m,\u001b[38;5;28;01mTrue\u001b[39;00m, [ \u001b[38;5;241m2\u001b[39m,\u001b[38;5;241m3\u001b[39m,\u001b[38;5;241m5\u001b[39m]]\n\u001b[0;32m----> 2\u001b[0m \u001b[43ml2\u001b[49m\u001b[38;5;241;43m.\u001b[39;49m\u001b[43msort\u001b[49m\u001b[43m(\u001b[49m\u001b[43m)\u001b[49m\n\u001b[1;32m      3\u001b[0m l2\n",
      "\u001b[0;31mTypeError\u001b[0m: '<' not supported between instances of 'int' and 'str'"
     ]
    }
   ],
   "source": [
    "l2 = ['harsh', 3,4,'mate',True, [ 2,3,5]]\n",
    "l2.sort()\n",
    "l2"
   ]
  },
  {
   "cell_type": "code",
   "execution_count": 62,
   "id": "6b3cd8bf-78b9-4bd6-b8c8-dd5ad8a5f990",
   "metadata": {},
   "outputs": [
    {
     "name": "stdout",
     "output_type": "stream",
     "text": [
      "('a', 'b', 'c', 'd', 'e', 'f', [1, 2, 3])\n"
     ]
    },
    {
     "data": {
      "text/plain": [
       "('b', 'c', 'd')"
      ]
     },
     "execution_count": 62,
     "metadata": {},
     "output_type": "execute_result"
    }
   ],
   "source": [
    "#Tooples.\n",
    "#You cannot change a toople. \n",
    "#Toople is like a read only list.\n",
    "#A toople is like a read only list\n",
    "t1 = ('a', 'b', 'c', 'd', 'e', 'f', [1,2,3])\n",
    "print (t1)\n",
    "#t1.append(p), \n",
    "#t1.index(b)\n",
    "#t1.sort()\n",
    "t1[1:4]\n",
    "\n"
   ]
  },
  {
   "cell_type": "code",
   "execution_count": 70,
   "id": "156cb6bd-2ffe-49f5-8aef-dce864d1def3",
   "metadata": {},
   "outputs": [
    {
     "data": {
      "text/plain": [
       "4"
      ]
     },
     "execution_count": 70,
     "metadata": {},
     "output_type": "execute_result"
    }
   ],
   "source": [
    "#set, set does not have index and you cannot also update or change it. \n",
    "s1 = {'anne', 'antony', 'kelvin', 'Harsh', 'Babita'}\n",
    "free = { 'antony', 'Anne', 'Kelvin', 'Daniel', 'Babita' }\n",
    "paid = { 'antony', 'Anne', 'Joy', 'Omar' , 'Moneesha', 'Nazma', 'Babita'}\n",
    "#How much customers came from the free worshop.\n",
    "len(free.intersection(paid))\n",
    "free.intersection(paid)\n",
    "#How many customers did not turn up from free workshop\n",
    "free.difference(paid)\n",
    "len(free.difference(paid))\n",
    "paid.difference(free)\n",
    "len(paid.difference(free))"
   ]
  },
  {
   "cell_type": "code",
   "execution_count": 73,
   "id": "3570f194-fb35-4f9d-8b7b-c28226049f31",
   "metadata": {},
   "outputs": [
    {
     "data": {
      "text/plain": [
       "9"
      ]
     },
     "execution_count": 73,
     "metadata": {},
     "output_type": "execute_result"
    }
   ],
   "source": [
    "#set, set does not have index and you cannot also update or change it. \n",
    "s1 = {'anne', 'antony', 'kelvin', 'Harsh', 'Babita'}\n",
    "free = { 'antony', 'Anne', 'Kelvin', 'Daniel', 'Babita' }\n",
    "paid = { 'antony', 'Anne', 'Joy', 'Omar' , 'Moneesha', 'Nazma', 'Babita'}\n",
    "#How much customers came from the free worshop.\n",
    "len(free.intersection(paid))\n",
    "free.intersection(paid)\n",
    "#How many customers did not turn up from free workshop\n",
    "#Total number of customers \n",
    "print(free.union(paid))\n",
    "print(paid.union(free))\n",
    "totalc = free.union(paid)\n",
    "totalc\n",
    "len(totalc)"
   ]
  },
  {
   "cell_type": "code",
   "execution_count": 86,
   "id": "50567c21-e714-407c-a3d6-87bab0bf960e",
   "metadata": {},
   "outputs": [
    {
     "data": {
      "text/plain": [
       "'Trainer'"
      ]
     },
     "execution_count": 86,
     "metadata": {},
     "output_type": "execute_result"
    }
   ],
   "source": [
    "#Dictionaries \n",
    "d1 = {'Harsh':43, 'Teddy':27, 'Anne':18}\n",
    "len(d1)\n",
    "type(d1)\n",
    "d1['Teddy']\n",
    "\n",
    "db = { 'name':'Harsh',\n",
    "      'Profession' : 'Trainer',\n",
    "      'country': 'India',\n",
    "      #You can have a list for a key\n",
    "      'Birthplace' :['India', 'UK'],\n",
    "       'Industry': 'It' }\n",
    "\n",
    "bd_l = ['harsh', 'Trainer', 'India', 'It'] #This is the list bersion of db\n",
    "bd_l[1] # With list we can use indexses\n",
    "db['Birthplace'] #With dictionaies you cannot use index.\n"
   ]
  },
  {
   "cell_type": "code",
   "execution_count": 87,
   "id": "8ac0b23d-461b-4172-9e99-3feb27238230",
   "metadata": {},
   "outputs": [
    {
     "name": "stdout",
     "output_type": "stream",
     "text": [
      "large sized name\n"
     ]
    }
   ],
   "source": [
    "#Conditional statements \n",
    "name = 'Harsh'\n",
    "if len(name) > 6:\n",
    "    print(\"large sized name\")\n",
    "elif len(name)>4:\n",
    "        print('mid sized name')\n",
    "else:\n",
    "    print(\"small sized name\")\n",
    "        "
   ]
  },
  {
   "cell_type": "code",
   "execution_count": 93,
   "id": "c9671b45-8803-49e7-af2c-01d695757aab",
   "metadata": {},
   "outputs": [
    {
     "name": "stdin",
     "output_type": "stream",
     "text": [
      "enter your name -  mimi\n",
      "enter price -  mmm\n"
     ]
    },
    {
     "ename": "ValueError",
     "evalue": "invalid literal for int() with base 10: 'mmm'",
     "output_type": "error",
     "traceback": [
      "\u001b[0;31m---------------------------------------------------------------------------\u001b[0m",
      "\u001b[0;31mValueError\u001b[0m                                Traceback (most recent call last)",
      "Input \u001b[0;32mIn [93]\u001b[0m, in \u001b[0;36m<cell line: 2>\u001b[0;34m()\u001b[0m\n\u001b[1;32m      1\u001b[0m name \u001b[38;5;241m=\u001b[39m \u001b[38;5;28minput\u001b[39m(\u001b[38;5;124m'\u001b[39m\u001b[38;5;124menter your name - \u001b[39m\u001b[38;5;124m'\u001b[39m)\n\u001b[0;32m----> 2\u001b[0m price \u001b[38;5;241m=\u001b[39m \u001b[38;5;28;43mint\u001b[39;49m\u001b[43m(\u001b[49m\u001b[38;5;28;43minput\u001b[39;49m\u001b[43m(\u001b[49m\u001b[43m \u001b[49m\u001b[38;5;124;43m\"\u001b[39;49m\u001b[38;5;124;43menter price - \u001b[39;49m\u001b[38;5;124;43m\"\u001b[39;49m\u001b[43m)\u001b[49m\u001b[43m)\u001b[49m\n\u001b[1;32m      3\u001b[0m \u001b[38;5;28;01mif\u001b[39;00m \u001b[38;5;28mlen\u001b[39m(name) \u001b[38;5;241m>\u001b[39m \u001b[38;5;241m6\u001b[39m:\n\u001b[1;32m      4\u001b[0m     \u001b[38;5;28mprint\u001b[39m(\u001b[38;5;124m\"\u001b[39m\u001b[38;5;124mlarge sized name\u001b[39m\u001b[38;5;124m\"\u001b[39m)\n",
      "\u001b[0;31mValueError\u001b[0m: invalid literal for int() with base 10: 'mmm'"
     ]
    }
   ],
   "source": [
    "name = input('enter your name - ')\n",
    "price = int(input( \"enter price - \"))\n",
    "if len(name) > 6:\n",
    "    print(\"large sized name\")\n",
    "elif price > 35:\n",
    "        print('mid sized name')\n",
    "elif price > 25 :\n",
    "    print('medium pricing')\n",
    "elif price > 10:\n",
    "    print(\"cheap pricing\")\n",
    "else:\n",
    "    print(\"small sized name\")"
   ]
  },
  {
   "cell_type": "code",
   "execution_count": 2,
   "id": "2d4c82d3-befb-415e-97e8-017f2599c0b3",
   "metadata": {},
   "outputs": [
    {
     "name": "stdin",
     "output_type": "stream",
     "text": [
      "enter the annuel salary  50000\n",
      "enter The location (Either: USA or UK) -   UK\n",
      "how many working days or the week is it - 5\n"
     ]
    },
    {
     "name": "stdout",
     "output_type": "stream",
     "text": [
      "This job is a 0\n"
     ]
    }
   ],
   "source": [
    " ##############\n",
    "#Identify which job you wil take assuming \n",
    "#you have around £50,000 in uk and £70,000 in us.\n",
    "#salary, location, five day working, Shifting bonus, joinning bonus, Familly packet, work life ballance.\n",
    "#Key: 3 =location, price and work life balance is what i want, \n",
    "      #2 = Only location and salary is what i want\n",
    "      # 1 = only location is wnat i want\n",
    "     # 0 = nothing is what i want \n",
    "    \n",
    "Salary = int(input('enter the annuel salary '))\n",
    "Location = input( 'enter The location (Either: USA or UK) -  ')\n",
    "WorkingDays = int(input( 'how many working days or the week is it -'))\n",
    "if Salary > 50000 and Location == \"UK\" and WorkingDays < 5:\n",
    "    print('This job is a 3')\n",
    "elif Salary > 50000 and Location == \"UK\" and WorkingDays > 4:\n",
    "    print('This job is a 2')\n",
    "elif Salary > 50000 and Location == \"US\" and WorkingDays > 4:\n",
    "    print('This job is a 1')\n",
    "else:\n",
    "    print('This job is a 0')"
   ]
  },
  {
   "cell_type": "code",
   "execution_count": null,
   "id": "40288a5a-14ab-4e0f-82cd-ef6eb541acc3",
   "metadata": {},
   "outputs": [],
   "source": [
    "Job_Options = { #Salary, location, Joining, Bonus, Workinghrs, notice period \n",
    "    'SAMSUNG' : [70, 'US', 10, 8, 3],\n",
    "    'LBG' : [55, 'UK', 0, 10, 5],\n",
    "    'Barclays' : [ 56, 'UK', 0,10,5 ]\n",
    "    'Kippax' : [80, 'UAE', 20, 7, 1]\n",
    "    'Google' : [75, 'singapore', 5,9,2]\n",
    "}  "
   ]
  },
  {
   "cell_type": "code",
   "execution_count": 6,
   "id": "f5a5ff77-d3a6-47b4-84ab-092cd38f6402",
   "metadata": {},
   "outputs": [],
   "source": [
    "expense = {\n",
    "    'India' :1, \n",
    "    'Singapore': 7,\n",
    "    'US': 5.5,\n",
    "    'UK' : 4.5,\n",
    "    'UAE' : 4.5 \n",
    "}"
   ]
  },
  {
   "cell_type": "code",
   "execution_count": null,
   "id": "786a524a-62df-43a7-a19c-400a1e1b3c70",
   "metadata": {},
   "outputs": [],
   "source": [
    "#non-negotiable preferances \n",
    "\n",
    "# 1. min salary of 55 in UK \n",
    "# 2. can't work beyond 8 hours \n",
    "# 3. notice period should be equivalent or less than joining bonus\n",
    "\n"
   ]
  },
  {
   "cell_type": "code",
   "execution_count": 7,
   "id": "69e21da6-0dc9-4c73-abfe-5cc53e2a0c44",
   "metadata": {},
   "outputs": [
    {
     "name": "stdout",
     "output_type": "stream",
     "text": [
      "155.55555555555554\n"
     ]
    }
   ],
   "source": [
    "uk_expectation = 100\n",
    "us_expectation = uk_expectation/expense['UK']*expense['Singapore']\n",
    "print(us_expectation)"
   ]
  },
  {
   "cell_type": "code",
   "execution_count": null,
   "id": "df9c416e-9aeb-414f-a458-7d28bb9cc266",
   "metadata": {},
   "outputs": [],
   "source": [
    "eligible_jobs = dict()\n",
    " for comp,job in job_options.item():\n",
    "        uk_salary = job[0] / expense [job[1]]*expense['uk']\n",
    "        if uk_salary < 55:\n",
    "            continue\n",
    "        if job[3] > 8\n",
    "        continue \n",
    "        montlhy_salary = job[0]/12\n",
    "        joining_bonus_months < job[4]\n",
    "        \n",
    "        \n",
    "        \n",
    "        "
   ]
  }
 ],
 "metadata": {
  "kernelspec": {
   "display_name": "Python 3 (ipykernel)",
   "language": "python",
   "name": "python3"
  },
  "language_info": {
   "codemirror_mode": {
    "name": "ipython",
    "version": 3
   },
   "file_extension": ".py",
   "mimetype": "text/x-python",
   "name": "python",
   "nbconvert_exporter": "python",
   "pygments_lexer": "ipython3",
   "version": "3.10.6"
  }
 },
 "nbformat": 4,
 "nbformat_minor": 5
}
