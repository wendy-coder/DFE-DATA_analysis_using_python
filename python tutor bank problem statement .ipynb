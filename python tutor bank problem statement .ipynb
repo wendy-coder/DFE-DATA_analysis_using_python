{
 "cells": [
  {
   "cell_type": "markdown",
   "id": "65783a90-47c0-4e68-b0fb-88a8ca06424d",
   "metadata": {},
   "source": [
    "###### Problem statement:\n",
    "You need to implement a CRUD operations python app for managing monetary transactions in banks and ATMs. It should have following features:\n",
    "-New user should be able to create account\n",
    "-Existing users should be able to close their account (*)\n",
    "-Existing users should be able to deposit money in their account\n",
    "-Existing users should be able to withdraw money from their account (*)\n",
    "-Existing users should be able to transfer money to another existing account(*)\n",
    "-There should be an option to change PIN for existing users(*)\n",
    "-All * marked operations needs to be done with PIN verification"
   ]
  },
  {
   "cell_type": "code",
   "execution_count": 3,
   "id": "e255d494-f1cf-4da1-a48f-19a8a9f30083",
   "metadata": {},
   "outputs": [],
   "source": [
    "#\"\"\n",
    "#[]\n",
    "#{}\n",
    "\n",
    "#####To begin create a data base for the people that \n",
    "#have a bank account in the banks. Then we can start updatting the data base.\n",
    "bank_db = { #   ACNO :[Name,Balance,PIN]\n",
    "    101 : ['Harsh',1000,'5678'],\n",
    "    102 : ['Anne',5500,'3902'],\n",
    "    103 : ['Antony',45000,'1122']\n",
    "}\n",
    "    "
   ]
  },
  {
   "cell_type": "code",
   "execution_count": null,
   "id": "32afc12e-0574-4ee6-926d-e47bfee88667",
   "metadata": {},
   "outputs": [
    {
     "name": "stdin",
     "output_type": "stream",
     "text": [
      "Enter 1 if you are a new user, 2 if you are an existing user, 3 to quit -  1\n",
      "Enter your name -  naz\n",
      "Enter your 4 digit pin -  1578\n"
     ]
    },
    {
     "name": "stdout",
     "output_type": "stream",
     "text": [
      "New account created with ac no. 104\n"
     ]
    }
   ],
   "source": [
    "while True:\n",
    "    user_type = int(input(\"Enter 1 if you are a new user, 2 if you are an existing user, 3 to quit - \"))\n",
    "    #Get an input from the user to tell you what you what they want.\n",
    "    if user_type == 1: #They are a new user. So get their details and add it to the data base.\n",
    "        name = input(\"Enter your name - \")\n",
    "        pin = input(\"Enter your 4 digit pin - \")\n",
    "        if len(pin) != 4:\n",
    "            print(\"Invalid pin, please try again - \") \n",
    "            #Have a check to ensure they are putting the pin right.\n",
    "        else:\n",
    "            largest_acno = sorted(list(bank_db.keys()))[-1] \n",
    "            new_acno = largest_acno + 1\n",
    "            bank_db.update({new_acno:[name,0,pin]})\n",
    "            print(\"New account created with ac no.\", new_acno)\n",
    "    elif user_type == 2: #They are an existing user so, \n",
    "        #take their name to see and if it exist in teh data base.\n",
    "        acno = int(input(\"Enter your account number - \"))\n",
    "        #If their name is there then get what they are coming to do.\n",
    "        if acno in bank_db:\n",
    "            op_type = int(input(\"Enter 1 for closing the account, 2 for depositing money, 3 for withdrawal, 4 for changing pin, 5 for transfer money - \"))\n",
    "             #Their input let you know what they want to do so do that.\n",
    "            if op_type == 1:\n",
    "                close_account(acno)\n",
    "            elif op_type == 2:\n",
    "                deposit_money(acno)\n",
    "            elif op_type == 3:\n",
    "                withdraw_money(acno)\n",
    "            elif op_type == 4:\n",
    "                change_pin(acno)\n",
    "            elif op_type == 5:\n",
    "                transfer_money(acno)\n",
    "        else:\n",
    "            print(\"Invalid account number, please create your account\")\n",
    "            #If their account number is wrong tell them to create it it could be theyr had a name similar to someone in the data base but they are not a member\n",
    "    elif user_type == 3:\n",
    "        print(\"Thanks for trusting our bank, see you again\")\n",
    "        #If they put 3 first time then they do not wnat to continue.\n",
    "        break\n",
    "    else:\n",
    "        print(\"Invalid selection please try again\")\n",
    "        "
   ]
  },
  {
   "cell_type": "code",
   "execution_count": null,
   "id": "46e70687-c290-4299-bccd-bd9bdf90ce91",
   "metadata": {},
   "outputs": [],
   "source": [
    "bank_db"
   ]
  },
  {
   "cell_type": "code",
   "execution_count": 2,
   "id": "0bf0b931-34a0-4462-8cc4-254f6d5daa7f",
   "metadata": {},
   "outputs": [],
   "source": [
    "def pin_verification(acno):\n",
    "    pin = input(\"Enter your pin - \")\n",
    "    if pin == bank_db[acno][2]:\n",
    "        return True\n",
    "    else:\n",
    "        return False"
   ]
  },
  {
   "cell_type": "code",
   "execution_count": null,
   "id": "a368e32a-7e31-49dd-b6c8-513a062e9290",
   "metadata": {},
   "outputs": [],
   "source": [
    "def close_account(acno):\n",
    "    if pin_verification(acno):\n",
    "        del bank_db[acno]\n",
    "        print(\"Account deleted\")\n",
    "    else:\n",
    "        print(\"PIN Verification failed\")"
   ]
  },
  {
   "cell_type": "code",
   "execution_count": null,
   "id": "3b99f17d-c794-4dbe-97ad-d3772d951298",
   "metadata": {},
   "outputs": [],
   "source": [
    "def deposit_money(acno):\n",
    "    money = int(input(\"Enter amount to deposit - \"))\n",
    "    bank_db[acno][1] += money\n",
    "    print(\"Amount deposited, new balance is\",bank_db[acno][1])"
   ]
  },
  {
   "cell_type": "code",
   "execution_count": null,
   "id": "19ddb720-338e-48bf-9d46-4b1723f0442e",
   "metadata": {},
   "outputs": [],
   "source": [
    "def withdraw_money(acno):\n",
    "    if pin_verification(acno):\n",
    "        money = int(input(\"Enter amount to withdraw - \"))\n",
    "        bank_db[acno][1] -= money\n",
    "        print(\"Amount withdrawn, new balance is\",bank_db[acno][1])\n",
    "    else:\n",
    "        print(\"PIN Verification failed\")"
   ]
  },
  {
   "cell_type": "code",
   "execution_count": null,
   "id": "e96961e3-cf94-4c45-9de9-79b70df733dd",
   "metadata": {},
   "outputs": [],
   "source": [
    "def change_pin(acno):\n",
    "    if pin_verification(acno):\n",
    "        new_pin = input(\"Enter new pin (in 4 digits) - \")\n",
    "        if len(new_pin) == 4:\n",
    "            bank_db[acno][2] = new_pin\n",
    "            print(\"PIN Changed\")\n",
    "        else:\n",
    "            print(\"Invalid 4 digit pin\")\n",
    "    else:\n",
    "        print(\"PIN Verification failed\")"
   ]
  },
  {
   "cell_type": "code",
   "execution_count": null,
   "id": "91c661b6-4d72-4e9c-829d-029dfaa972e7",
   "metadata": {},
   "outputs": [],
   "source": [
    "def transfer_money(acno):\n",
    "    if pin_verification(acno):\n",
    "        money = int(input(\"Enter amount to transfer - \"))\n",
    "        newacno = int(input(\"Enter receiver's account - \"))\n",
    "        if newacno in bank_db:\n",
    "            bank_db[acno][1] -= money\n",
    "            bank_db[newacno][1] += money\n",
    "            print(\"Amount transferred, new balance is\",bank_db[acno][1])\n",
    "        else:\n",
    "            print(\"Receiver does not exist\")\n",
    "    else:\n",
    "        print(\"PIN Verification failed\")"
   ]
  },
  {
   "cell_type": "code",
   "execution_count": null,
   "id": "6a84a01c-bd5a-4817-82e8-a1d55cccb96c",
   "metadata": {},
   "outputs": [],
   "source": []
  }
 ],
 "metadata": {
  "kernelspec": {
   "display_name": "Python 3 (ipykernel)",
   "language": "python",
   "name": "python3"
  },
  "language_info": {
   "codemirror_mode": {
    "name": "ipython",
    "version": 3
   },
   "file_extension": ".py",
   "mimetype": "text/x-python",
   "name": "python",
   "nbconvert_exporter": "python",
   "pygments_lexer": "ipython3",
   "version": "3.10.6"
  }
 },
 "nbformat": 4,
 "nbformat_minor": 5
}
