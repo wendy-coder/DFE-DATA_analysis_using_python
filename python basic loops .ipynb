{
 "cells": [
  {
   "cell_type": "code",
   "execution_count": null,
   "id": "da97c0b9-8c63-4e91-a681-5fb34bb375ed",
   "metadata": {},
   "outputs": [],
   "source": [
    "# for Loops \n",
    "for i in range[0,1,2,3,4]:\n",
    "    print(\"hello\", i)"
   ]
  },
  {
   "cell_type": "code",
   "execution_count": 1,
   "id": "cc926220-a6f4-4eaa-bcec-608f0c8f0634",
   "metadata": {},
   "outputs": [
    {
     "name": "stdout",
     "output_type": "stream",
     "text": [
      "Hello harsh\n",
      "Hello trainer\n",
      "Hello india\n",
      "Hello it\n"
     ]
    }
   ],
   "source": [
    "db_l = [ 'harsh', 'trainer', 'india', 'it' ]\n",
    "for i in db_l:\n",
    "    print('Hello', i)\n",
    "    "
   ]
  },
  {
   "cell_type": "code",
   "execution_count": 4,
   "id": "e6bf947f-4340-488e-81fd-7ace36a325bc",
   "metadata": {},
   "outputs": [
    {
     "name": "stdin",
     "output_type": "stream",
     "text": [
      "Enter your age -  23\n"
     ]
    },
    {
     "name": "stdout",
     "output_type": "stream",
     "text": [
      "you are an adults\n"
     ]
    },
    {
     "name": "stdin",
     "output_type": "stream",
     "text": [
      "enter your age -  100 \n"
     ]
    },
    {
     "name": "stdout",
     "output_type": "stream",
     "text": [
      "you are an adults\n"
     ]
    },
    {
     "name": "stdin",
     "output_type": "stream",
     "text": [
      "enter your age -  45\n"
     ]
    },
    {
     "name": "stdout",
     "output_type": "stream",
     "text": [
      "you are an adults\n"
     ]
    },
    {
     "name": "stdin",
     "output_type": "stream",
     "text": [
      "enter your age -  10\n"
     ]
    }
   ],
   "source": [
    "#While loop\n",
    "# you stop only when somebody below 18 years will pop in.\n",
    "age = int(input(\"Enter your age - \"))\n",
    "while age >= 18:\n",
    "   print(\"you are an adults\")\n",
    "   age = int(input(\"enter your age - \"))\n",
    "#if you put a statement where the answer is false it stops straght away.\n",
    "\n"
   ]
  },
  {
   "cell_type": "code",
   "execution_count": null,
   "id": "bb8698cb-e804-4240-9f39-388f3d62a9e4",
   "metadata": {},
   "outputs": [],
   "source": [
    "age = 25 \n",
    "limit = 5\n",
    "i = 0 \n",
    "\n",
    "while age >= 18 and i < limit :\n",
    "    i += 1\n",
    "    print(\"you are an adult\")\n",
    "    age = int(input(\"enter your age - \")\n",
    "    "
   ]
  },
  {
   "cell_type": "code",
   "execution_count": null,
   "id": "e8a4a90b-44c8-482f-adae-778efa108704",
   "metadata": {},
   "outputs": [],
   "source": [
    "for i in range(5):\n",
    "    age = int(input(\"enter your age - \"))\n",
    "    if age <18:\n",
    "        break\n",
    "        else:\n",
    "            print(\"your are an adult\")\n",
    "            #For loop to help you set up the limit for the age input."
   ]
  },
  {
   "cell_type": "code",
   "execution_count": 14,
   "id": "faf3f5e5-96da-427e-88f0-feee12796a20",
   "metadata": {},
   "outputs": [
    {
     "name": "stdin",
     "output_type": "stream",
     "text": [
      "enter your name _ losangeles\n"
     ]
    },
    {
     "name": "stdout",
     "output_type": "stream",
     "text": [
      "large size name\n"
     ]
    }
   ],
   "source": [
    "#Diabetes control at home \n",
    "def comment_on_name():\n",
    "    name = input (\"enter your name _\")\n",
    "    if len(name)>6:\n",
    "        print(\"large size name\")\n",
    "    else:\n",
    "            print (\"small sized name\")\n",
    "comment_on_name()"
   ]
  },
  {
   "cell_type": "code",
   "execution_count": 26,
   "id": "7d07f3e4-db69-4862-8522-9d102b6df126",
   "metadata": {},
   "outputs": [
    {
     "name": "stdin",
     "output_type": "stream",
     "text": [
      "enter value for the base -  nm\n"
     ]
    },
    {
     "ename": "ValueError",
     "evalue": "invalid literal for int() with base 10: 'nm'",
     "output_type": "error",
     "traceback": [
      "\u001b[0;31m---------------------------------------------------------------------------\u001b[0m",
      "\u001b[0;31mValueError\u001b[0m                                Traceback (most recent call last)",
      "Input \u001b[0;32mIn [26]\u001b[0m, in \u001b[0;36m<cell line: 8>\u001b[0;34m()\u001b[0m\n\u001b[1;32m      6\u001b[0m     time\u001b[38;5;241m.\u001b[39msleep(\u001b[38;5;241m3\u001b[39m)\n\u001b[1;32m      7\u001b[0m     \u001b[38;5;28;01mreturn\u001b[39;00m(hyp)\n\u001b[0;32m----> 8\u001b[0m \u001b[43mpythog\u001b[49m\u001b[43m(\u001b[49m\u001b[43m)\u001b[49m\n",
      "Input \u001b[0;32mIn [26]\u001b[0m, in \u001b[0;36mpythog\u001b[0;34m()\u001b[0m\n\u001b[1;32m      2\u001b[0m \u001b[38;5;28;01mdef\u001b[39;00m \u001b[38;5;21mpythog\u001b[39m():\n\u001b[0;32m----> 3\u001b[0m     base \u001b[38;5;241m=\u001b[39m \u001b[38;5;28;43mint\u001b[39;49m\u001b[43m(\u001b[49m\u001b[38;5;28;43minput\u001b[39;49m\u001b[43m(\u001b[49m\u001b[38;5;124;43m\"\u001b[39;49m\u001b[38;5;124;43menter value for the base - \u001b[39;49m\u001b[38;5;124;43m\"\u001b[39;49m\u001b[43m)\u001b[49m\u001b[43m)\u001b[49m\n\u001b[1;32m      4\u001b[0m     alt \u001b[38;5;241m=\u001b[39m \u001b[38;5;28mint\u001b[39m(\u001b[38;5;28minput\u001b[39m(\u001b[38;5;124m\"\u001b[39m\u001b[38;5;124menter your alt\u001b[39m\u001b[38;5;124m\"\u001b[39m))\n\u001b[1;32m      5\u001b[0m     hyp \u001b[38;5;241m=\u001b[39m ((alt\u001b[38;5;241m*\u001b[39m\u001b[38;5;241m*\u001b[39m\u001b[38;5;241m2\u001b[39m) \u001b[38;5;241m+\u001b[39m (base\u001b[38;5;241m*\u001b[39m\u001b[38;5;241m*\u001b[39m\u001b[38;5;241m2\u001b[39m))\u001b[38;5;241m*\u001b[39m\u001b[38;5;241m*\u001b[39m\u001b[38;5;241m0.5\u001b[39m\n",
      "\u001b[0;31mValueError\u001b[0m: invalid literal for int() with base 10: 'nm'"
     ]
    }
   ],
   "source": [
    "#\"\"\n",
    "def pythog():\n",
    "    base = int(input(\"enter value for the base - \"))\n",
    "    alt = int(input(\"enter your alt\"))\n",
    "    hyp = ((alt**2) + (base**2))**0.5\n",
    "    time.sleep(3)\n",
    "    return(hyp)\n",
    "pythog()\n",
    "              "
   ]
  },
  {
   "cell_type": "code",
   "execution_count": 27,
   "id": "7269fe81-b164-49d7-91f6-3803e7d01a89",
   "metadata": {},
   "outputs": [],
   "source": [
    "import time\n",
    "def pythog(base,alt):\n",
    "     hyp = ((alt**2) + (base**2))**0.5   \n",
    "     time.sleep(3)\n",
    "     return hyp\n",
    "              #time.sleep(3) used to put the system to sleep for some seconds.\n",
    "\n",
    "            "
   ]
  },
  {
   "cell_type": "code",
   "execution_count": null,
   "id": "dfa97386-4f3b-4025-8680-4e55781502c0",
   "metadata": {},
   "outputs": [],
   "source": []
  }
 ],
 "metadata": {
  "kernelspec": {
   "display_name": "Python 3 (ipykernel)",
   "language": "python",
   "name": "python3"
  },
  "language_info": {
   "codemirror_mode": {
    "name": "ipython",
    "version": 3
   },
   "file_extension": ".py",
   "mimetype": "text/x-python",
   "name": "python",
   "nbconvert_exporter": "python",
   "pygments_lexer": "ipython3",
   "version": "3.10.6"
  }
 },
 "nbformat": 4,
 "nbformat_minor": 5
}
