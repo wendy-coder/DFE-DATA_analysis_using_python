{
 "cells": [
  {
   "cell_type": "code",
   "execution_count": null,
   "id": "c0d030f0-8222-43e1-9223-25d6abd3d4ad",
   "metadata": {},
   "outputs": [],
   "source": [
    "### Problem Statement 2\n",
    "You need to build a CRUD operations manager in Python which can be used by any academic institution.\n",
    "It should work for all of the following departments plus one more department of your choice:\n",
    "- Library\n",
    "    - Allow students to borrow book\n",
    "    - Allow students to return book\n",
    "    - Allow students to check almirah number for the book \n",
    "\n",
    "- Hostel\n",
    "    - Every student need to recharge a wallet before opt-in to make advance payments\n",
    "    - Allow students to opt-in/opt-out from hostels\n",
    "    - On opt-out security amounts will be refunded\n",
    "    - Should have a calculator to check fees by adding different component (each component like bed, AC, TV, shower has a fee associated)\n",
    "    - Allow to switch between different sharing schemes (from single occupancy to 2 sharing etc...)"
   ]
  },
  {
   "cell_type": "code",
   "execution_count": null,
   "id": "f5c4cee0-ddc6-4728-8ddd-ab79c024504e",
   "metadata": {},
   "outputs": [],
   "source": [
    "### Library problem statement"
   ]
  },
  {
   "cell_type": "code",
   "execution_count": 2,
   "id": "7185a4f9-b7ab-4965-9cb8-056a8f7f2b4b",
   "metadata": {},
   "outputs": [],
   "source": [
    "# Student Name, ISB No., Bookname,\n",
    "borrowers_db = {\n",
    "    101 : ['Joy','Tom & Jerry', 1235],\n",
    "    102 : ['Rob','Peter Rabbit',3564],\n",
    "    103 : ['Tod','Harry Potter',6523],\n",
    "    104 : ['Michael','Lord of the Rings',8236]\n",
    "}"
   ]
  },
  {
   "cell_type": "code",
   "execution_count": null,
   "id": "f72e32de-0a19-431d-9914-13cb11d2e98a",
   "metadata": {},
   "outputs": [
    {
     "name": "stdin",
     "output_type": "stream",
     "text": [
      "Enter 1 if you are a borrowing a book, 2 if you are returning a book, 3 quit -  1\n",
      "Enter your name -  naz\n",
      "Enter your 4 digit ISB Number -  2671\n"
     ]
    },
    {
     "name": "stdout",
     "output_type": "stream",
     "text": [
      "Thank you for borrowing the book. naz\n"
     ]
    }
   ],
   "source": [
    "while True:\n",
    "    user_type = int(input(\"Enter 1 if you are a borrowing a book, 2 if you are returning a book, 3 quit - \"))\n",
    "    if user_type == 1:\n",
    "        name = input(\"Enter your name - \")\n",
    "        isb_no = input(\"Enter your 4 digit ISB Number - \")\n",
    "        if len(isb_no) != 4:\n",
    "            print(\"Invalid ISB Number, please try again - \")\n",
    "        else:\n",
    "            largest_acno = sorted(list(borrowers_db.keys()))[-1]\n",
    "            new_acno = largest_acno + 1\n",
    "            borrowers_db.update({new_acno:[name,0,isb_no]})\n",
    "            print(\"Thank you for borrowing the book\", name! )\n",
    "    elif user_type == 2:\n",
    "        name = input(\"Enter your name - \")\n",
    "        book_name = input(\"Enter your book name - \")\n",
    "        if book_name in borrowers_db:   \n",
    "            del borrowers_db[book_name]\n",
    "            print(\"Book returned\")\n",
    "        else:\n",
    "            print(\"You put the wrong book name\")\n",
    "            #if op_type == 1:\n",
    "                    #return_book(book_name)\n",
    "            #elif op_type == 2:\n",
    "                    #change_book(book_name)                \n",
    "    elif user_type == 3:\n",
    "        class color: \n",
    "            BOLD = '\\033[1m'\n",
    "            CYAN = '\\033[96m'\n",
    "            UNDERLINE = '\\033[4m'\n",
    "        print(\"Thanks for visiting the library, keep reading :\" + color.CYAN + color.BOLD+ color.UNDERLINE+ \"#REARDERS ARE LEADERS!\")\n",
    "        #If they put 3 first time then they do not wnat to continue.\n",
    "        break\n",
    "    else:\n",
    "        print(\"Invalid selection please try again\")"
   ]
  },
  {
   "cell_type": "code",
   "execution_count": null,
   "id": "fdaf5e76-e74e-4bc5-86da-10c9682832f5",
   "metadata": {},
   "outputs": [],
   "source": [
    "borrowers_db()"
   ]
  },
  {
   "cell_type": "code",
   "execution_count": null,
   "id": "b8cb993d-930f-43cc-9e61-056ea9409d92",
   "metadata": {},
   "outputs": [],
   "source": [
    "def check_isbno(book_name):\n",
    "    isb_no = input(\"Enter your ISB number - \")\n",
    "    if isb_no == borrowers_db[book_name][2]:\n",
    "        return True\n",
    "    else:\n",
    "        return False"
   ]
  },
  {
   "cell_type": "code",
   "execution_count": null,
   "id": "888e7be5-a280-4190-a32a-04670da35369",
   "metadata": {},
   "outputs": [],
   "source": [
    "def return_book(book_name):\n",
    "    if isb_no(book_name):\n",
    "        del borrowers_db[book_name]\n",
    "        print(\"Book returned\")\n",
    "    else:\n",
    "        print(\"ISB Number does not correspond to a Book\")"
   ]
  },
  {
   "cell_type": "code",
   "execution_count": null,
   "id": "791a6bc4-a430-4a09-862d-b5b592ff5901",
   "metadata": {},
   "outputs": [],
   "source": [
    "def change_book(book_name):\n",
    "    if isb_no(book_name):\n",
    "        book_name = input(\"Enter previous book name - \")\n",
    "        newbook_name = input(\"Enter new book name - \")\n",
    "        if newbook_name in borrowers_db:\n",
    "            borrowers_db[book_name][1] -= book_name\n",
    "            borrowers_db[newbook_name][1] += newbook_name\n",
    "            print(\"Your new book is exchnaged with \",borrowers_db[book_name][1])\n",
    "        else:\n",
    "            print(\"your previous book does not exist\")\n",
    "    else:\n",
    "         print(\"The ISBN number wrong\")"
   ]
  },
  {
   "cell_type": "markdown",
   "id": "cd01f0a8-1757-4705-8649-f6b36d43c498",
   "metadata": {},
   "source": [
    "### Hostel problem statement"
   ]
  },
  {
   "cell_type": "markdown",
   "id": "bce34f37-e556-4441-a85a-2c15e7b03708",
   "metadata": {},
   "source": [
    "- Hostel\n",
    "    - Every student need to recharge a wallet before opt-in to make advance payments\n",
    "    - Allow students to opt-in/opt-out from hostels\n",
    "    - On opt-out security amounts will be refunded\n",
    "    - Should have a calculator to check fees by adding different component (each component like bed, AC, TV, shower has a fee associated)\n",
    "    - Allow to switch between different sharing schemes (from single occupancy to 2 sharing etc...)\n",
    "\n"
   ]
  },
  {
   "cell_type": "code",
   "execution_count": null,
   "id": "918df0db-da3a-439a-97b0-4d4e25b92b9f",
   "metadata": {},
   "outputs": [],
   "source": [
    "#Student name \n",
    "#Wallet amount\n",
    "#opt_in = 1, opt_out = 2\n",
    "#Occupency ( single, sharing )\n",
    "#fees = bed + AC + TV + SHOWER\n",
    "\n",
    "db_students = {\n",
    "    101 : ['Moussa',30000, 1, \"single\"],\n",
    "    102 : ['David',40000,2, \"sharing\"],\n",
    "    103 : ['Harsh',50000,1, \"single\"],\n",
    "    104 : ['Li',70000,1, \"single\"],\n",
    "    105 : ['kweku',90000,2, \"sharing\"]\n",
    "}"
   ]
  },
  {
   "cell_type": "code",
   "execution_count": null,
   "id": "fe654be7-b910-4063-b9e9-0624822f1930",
   "metadata": {},
   "outputs": [],
   "source": [
    "#fees = bed + AC + TV + SHOWER money in pounds\n",
    "fees_night_db = {BED: 100,\n",
    "           TV: 20,\n",
    "           AC: 15,\n",
    "           SHOWER: 50}\n",
    "\n"
   ]
  },
  {
   "cell_type": "code",
   "execution_count": null,
   "id": "14490569-2c7c-4c33-bf6b-5d7c52e6445b",
   "metadata": {},
   "outputs": [],
   "source": []
  }
 ],
 "metadata": {
  "kernelspec": {
   "display_name": "Python 3 (ipykernel)",
   "language": "python",
   "name": "python3"
  },
  "language_info": {
   "codemirror_mode": {
    "name": "ipython",
    "version": 3
   },
   "file_extension": ".py",
   "mimetype": "text/x-python",
   "name": "python",
   "nbconvert_exporter": "python",
   "pygments_lexer": "ipython3",
   "version": "3.10.6"
  }
 },
 "nbformat": 4,
 "nbformat_minor": 5
}
